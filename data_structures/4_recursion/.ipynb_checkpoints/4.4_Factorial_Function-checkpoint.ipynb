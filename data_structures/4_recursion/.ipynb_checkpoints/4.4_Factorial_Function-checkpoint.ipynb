{
 "cells": [
  {
   "cell_type": "code",
   "execution_count": null,
   "id": "5e58b975-9a2a-4e96-bbe9-884d4ea75ba1",
   "metadata": {},
   "outputs": [],
   "source": [
    "# Factorial using recursion"
   ]
  },
  {
   "cell_type": "code",
   "execution_count": null,
   "id": "71b3ff32-ee84-43b2-824c-15b8b340d080",
   "metadata": {},
   "outputs": [],
   "source": [
    "The **factorial** function is a mathematical function that multiplies a given number, $n$, and all of the whole numbers from $n$ down to 1.\n",
    "\n",
    "For example, if $n$ is $4$ then we will get:\n",
    "\n",
    "$4*3*2*1 = 24$\n",
    "\n",
    "This is often notated using an exclamation point, as in $4!$ (which would be read as \"four factorial\").\n",
    "\n",
    "So $4! = 4*3*2*1 = 24$\n",
    "\n",
    "More generally, we can say that for any input $n$:\n",
    "\n",
    "$n! = n * (n-1) * (n-2) ... 1$\n",
    "\n",
    "If you look at this more closely, you will find that the factorial of any number is the product of that number and the factorial of the next smallest number. In other words:\n",
    "\n",
    "$n! = n*(n-1)!$\n",
    "\n",
    "Notice that this is recursive, meaning that we can solve for the factorial of any given number by first solving for the factorial of the next smallest number, and the next smallest number, and the next smallest number, and so on, until we reach 1.\n",
    "\n",
    "If you were to write a Python function called `factorial` to calculate the factorial of a number, then we could restate what we said above as follows:\n",
    "\n",
    "`factorial(n) = n * factorial(n-1)`\n",
    "\n",
    "So that is the goal of this exercise: To use recursion to write a function that will take a number and return the factorial of that number.\n",
    "\n",
    "For example, you should be able to call your function with `factorial(4)` and get back `24`.\n",
    "\n",
    "**Note:** By definition, $0! = 1$"
   ]
  },
  {
   "cell_type": "code",
   "execution_count": null,
   "id": "a98e6007-a09a-4bbf-8073-27448b04b0d6",
   "metadata": {},
   "outputs": [],
   "source": [
    "# Code\n",
    "\n",
    "def factorial(n):\n",
    "    \"\"\"\n",
    "    Calculate n!\n",
    "    \n",
    "    Args:\n",
    "       n(int): factorial to be computed\n",
    "    Returns:\n",
    "       n!\n",
    "    \"\"\"\n",
    "    \n",
    "    # TODO: Write your recursive factorial function here\n",
    "    if n == 0 :\n",
    "        return 1\n",
    "    else:\n",
    "        return n * factorial(n-1)\n",
    "    \n",
    "    pass\n",
    "# Test Cases\n",
    "\n",
    "print (\"Pass\" if (1 == factorial(0)) else \"Fail\")\n",
    "print (\"Pass\" if  (1 == factorial(1)) else \"Fail\")\n",
    "print (\"Pass\" if  (120 == factorial(5)) else \"Fail\")"
   ]
  },
  {
   "cell_type": "code",
   "execution_count": null,
   "id": "a144603c-8366-4bcd-840e-fac18831afb0",
   "metadata": {},
   "outputs": [],
   "source": [
    "# Test Cases\n",
    "\n",
    "print (\"Pass\" if (1 == factorial(0)) else \"Fail\")\n",
    "print (\"Pass\" if  (1 == factorial(1)) else \"Fail\")\n",
    "print (\"Pass\" if  (120 == factorial(5)) else \"Fail\")"
   ]
  },
  {
   "cell_type": "code",
   "execution_count": null,
   "id": "c57abc85-9246-42d4-aef2-f13a6191a888",
   "metadata": {},
   "outputs": [],
   "source": [
    "# Solution\n",
    "\n",
    "def factorial(n):\n",
    "    \"\"\"\n",
    "    Calculate n!\n",
    "\n",
    "    Args:\n",
    "       n(int): factorial to be computed\n",
    "    Returns:\n",
    "       n!\n",
    "    \"\"\"\n",
    "\n",
    "\tif n == 0:\n",
    "        return 1  # by definition of 0!\n",
    "    return n * factorial(n-1)\n",
    "\n",
    "print (\"Pass\" if (1 == factorial(0)) else \"Fail\")\n",
    "print (\"Pass\" if  (1 == factorial(1)) else \"Fail\")\n",
    "print (\"Pass\" if  (120 == factorial(5)) else \"Fail\")"
   ]
  }
 ],
 "metadata": {
  "kernelspec": {
   "display_name": "Python 3 (ipykernel)",
   "language": "python",
   "name": "python3"
  },
  "language_info": {
   "codemirror_mode": {
    "name": "ipython",
    "version": 3
   },
   "file_extension": ".py",
   "mimetype": "text/x-python",
   "name": "python",
   "nbconvert_exporter": "python",
   "pygments_lexer": "ipython3",
   "version": "3.12.6"
  }
 },
 "nbformat": 4,
 "nbformat_minor": 5
}
