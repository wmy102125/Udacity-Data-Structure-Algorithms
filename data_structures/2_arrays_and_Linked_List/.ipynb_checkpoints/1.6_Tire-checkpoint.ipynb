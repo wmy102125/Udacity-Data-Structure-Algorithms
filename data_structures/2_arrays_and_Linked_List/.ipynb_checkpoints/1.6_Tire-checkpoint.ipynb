{
 "cells": [
  {
   "cell_type": "code",
   "execution_count": null,
   "id": "397bd8f1-eac9-40d6-959e-f4a129947341",
   "metadata": {},
   "outputs": [],
   "source": [
    "# Trie\n",
    "You've learned about Trees and Binary Search Trees. In this notebook, you'll learn about a new type of Tree called Trie. Before we dive into the details, let's talk about the kind of problem Trie can help with.\n",
    "\n",
    "Let's say you want to build software that provides spell check. This software will only say if the word is valid or not. It doesn't give suggested words. From the knowledge you've already learned, how would you build this?\n",
    "\n",
    "The simplest solution is to have a hashmap of all known words. It would take $O(1)$ to see if a word exists, but the memory size would be $O(n*m)$, where n is the number of words and m is the length of the word. Let's see how a Trie can help decrease the memory usage while sacrificing a little on performance.\n",
    "\n",
    "## Basic Trie\n",
    "Let's look at a basic Trie with the following words: \"a\", \"add\", and \"hi\""
   ]
  },
  {
   "cell_type": "code",
   "execution_count": 1,
   "id": "436018ea-48af-493e-89e9-95d195f47efa",
   "metadata": {},
   "outputs": [
    {
     "name": "stdout",
     "output_type": "stream",
     "text": [
      "Is \"a\"   a word: True\n",
      "Is \"ad\"  a word: False\n",
      "Is \"add\" a word: True\n"
     ]
    }
   ],
   "source": [
    "basic_trie = {\n",
    "    # a and add word\n",
    "    'a': {\n",
    "        'd': {\n",
    "            'd': {'word_end': True},\n",
    "            'word_end': False},\n",
    "        'word_end': True},\n",
    "    # hi word\n",
    "    'h': {\n",
    "        'i': {'word_end': True},\n",
    "        'word_end': False}}\n",
    "\n",
    "\n",
    "print('Is \"a\"   a word: {}'.format(basic_trie['a']['word_end']))\n",
    "print('Is \"ad\"  a word: {}'.format(basic_trie['a']['d']['word_end']))\n",
    "print('Is \"add\" a word: {}'.format(basic_trie['a']['d']['d']['word_end']))"
   ]
  },
  {
   "cell_type": "code",
   "execution_count": null,
   "id": "2c002bc1-7482-417f-9950-aafb4fdb4cd2",
   "metadata": {},
   "outputs": [],
   "source": [
    "You can lookup a word by checking if `word_end` is `True` after traversing all the characters in the word. Let's look at the word \"hi\". The first letter is \"h\", so you would call `basic_trie['h']`. The second letter is \"i\", so you would call `basic_trie['h']['i']`. Since there's no more letters left, you would see if this is a valid word by getting the value of `word_end`. Now you have `basic_trie['h']['i']['word_end']` with `True` or `False` if the word exists.\n",
    "\n",
    "In `basic_trie`, words \"a\" and \"add\" overlapp. This is where a Trie saves memory. Instead of having \"a\" and \"add\" in different cells, their characters treated like nodes in a tree. Let's see how we would check if a word exists in `basic_trie`."
   ]
  },
  {
   "cell_type": "code",
   "execution_count": 2,
   "id": "89cdb3c8-93e0-4265-af93-e431bec055fa",
   "metadata": {},
   "outputs": [
    {
     "name": "stdout",
     "output_type": "stream",
     "text": [
      "\"ap\" is not a word.\n",
      "\"add\" is a word.\n"
     ]
    }
   ],
   "source": [
    "def is_word(word):\n",
    "    \"\"\"\n",
    "    Look for the word in `basic_trie`\n",
    "    \"\"\"\n",
    "    current_node = basic_trie\n",
    "    \n",
    "    for char in word:\n",
    "        if char not in current_node:\n",
    "            return False\n",
    "        \n",
    "        current_node = current_node[char]\n",
    "    \n",
    "    return current_node['word_end']\n",
    "\n",
    "\n",
    "# Test words\n",
    "test_words = ['ap', 'add']\n",
    "for word in test_words:\n",
    "    if is_word(word):\n",
    "        print('\"{}\" is a word.'.format(word))\n",
    "    else:\n",
    "        print('\"{}\" is not a word.'.format(word))"
   ]
  },
  {
   "cell_type": "code",
   "execution_count": null,
   "id": "7f55aa17-11f0-42d8-858b-4273e8317bcf",
   "metadata": {},
   "outputs": [],
   "source": [
    "The `is_word` starts with the root node, `basic_trie`. It traverses each character (`char`) in the word (`word`). If a character doesn't exist while traversing, this means the word doesn't exist in the trie. Once all the characters are traversed, the function returns the value of `current_node['word_end']`.\n",
    "\n",
    "You might notice the function `is_word` is similar to a binary search tree traversal. Since Trie is a tree, it makes sense that we would use a type of tree traversal. Now that you've seen a basic example of a Trie, let's build something more familiar.\n",
    "## Trie Using a Class\n",
    "Just like most tree data structures, let's use classes to build the Trie. Implement two functions for the `Trie` class below. Implement `add` to add a word to the Trie. Implement `exists` to return `True` if the word exist in the trie and `False` if the word doesn't exist in the trie.\n"
   ]
  },
  {
   "cell_type": "code",
   "execution_count": null,
   "id": "00d58293-a8f3-41db-9a50-a69814fa2556",
   "metadata": {},
   "outputs": [],
   "source": [
    "class TriesNode(Object):\n",
    "    def __init__(self):\n",
    "        self.is_word=False\n",
    "        self.children={}\n",
    "        \n",
    "class TrieTree(Object):\n",
    "    def __init__(self):\n",
    "        self.root = TriesNode()\n",
    "    def add(self, word):\n",
    "        \"\"\"\n",
    "        Add `word` to trie\n",
    "        \"\"\"\n",
    "        if word is None:\n",
    "            return\n",
    "        current_node = self.root\n",
    "        for char in word:\n",
    "           if char not in current_node.children:\n",
    "               current_node.children[char] = TriesNode()\n",
    "            current_node = current_node.children\n",
    "        current_node.is_word = true\n",
    "               \n",
    "    \n",
    "    def exists(self, word):\n",
    "        \"\"\"\n",
    "        Check if word exists in trie\n",
    "        \"\"\"\n",
    "        pass"
   ]
  }
 ],
 "metadata": {
  "kernelspec": {
   "display_name": "Python 3 (ipykernel)",
   "language": "python",
   "name": "python3"
  },
  "language_info": {
   "codemirror_mode": {
    "name": "ipython",
    "version": 3
   },
   "file_extension": ".py",
   "mimetype": "text/x-python",
   "name": "python",
   "nbconvert_exporter": "python",
   "pygments_lexer": "ipython3",
   "version": "3.12.6"
  }
 },
 "nbformat": 4,
 "nbformat_minor": 5
}
