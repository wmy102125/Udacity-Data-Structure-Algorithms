{
 "cells": [
  {
   "cell_type": "code",
   "execution_count": null,
   "id": "6d53c88f-2eea-4c77-829b-e5934411284a",
   "metadata": {},
   "outputs": [],
   "source": [
    "# Introduction to Inversions\n",
    "In an array, an inversion is a pair of elements that are out of their natural order. Specifically, if there are two indices i and j such that i<j and arr[i] > arr[j], then the pair (i,j) is considered an inversion. Understanding inversions can be useful for assessing the \"sortedness\" of a list, which has applications in data analysis and computer science theory."
   ]
  },
  {
   "cell_type": "code",
   "execution_count": null,
   "id": "97fbf215-f9db-41f9-a572-975186cf5b57",
   "metadata": {},
   "outputs": [],
   "source": [
    "# Why Count Inversions?\n",
    "Counting inversions is a way to measure how far an array is from being sorted. If the number of inversions is high, the array is far from sorted, and if it's low, the array is closer to being sorted. This measure can be useful in optimization problems and in algorithms that need to understand the underlying order of data."
   ]
  },
  {
   "cell_type": "code",
   "execution_count": null,
   "id": "2b30193a-b6f7-494d-b5ac-53e4401eb6f8",
   "metadata": {},
   "outputs": [],
   "source": [
    "# Using Merge Sort to Count Inversions\n",
    "Merge sort is a divide-and-conquer algorithm that can be modified to count inversions efficiently while sorting the array. The beauty of using merge sort lies in its ability to count inversions in O(nlogn) time, which is much more efficient than the naive O(n ^2) approach."
   ]
  },
  {
   "cell_type": "code",
   "execution_count": null,
   "id": "5f0c4ccf-c386-47a7-9b88-4848e6b6d252",
   "metadata": {},
   "outputs": [],
   "source": [
    "# Steps to Modify Merge Sort for Counting Inversions\n",
    "Divide: Split the array into two halves until each subarray contains only one element.\n",
    "Conquer and Combine:\n",
    "Sort each half and merge them as in the standard merge sort process.\n",
    "During the merging step, count the inversions:\n",
    "If an element from the right half right[j] is less than an element from the left half left[i], then there are as many inversions as the remaining elements in the left half. This is because all those elements are greater than right[j].\n"
   ]
  },
  {
   "cell_type": "code",
   "execution_count": null,
   "id": "a4a00650-c387-45e6-89d9-d1654c3b16c2",
   "metadata": {},
   "outputs": [],
   "source": [
    "# Counting Inversions\n",
    "\n",
    "The number of *inversions* in a disordered list is the number of pairs of elements that are inverted (out of order) in the list.  \n",
    "\n",
    "Here are some examples: \n",
    "  - [0,1] has 0 inversions\n",
    "  - [2,1] has 1 inversion (2,1)\n",
    "  - [3, 1, 2, 4] has 2 inversions (3, 2), (3, 1)\n",
    "  - [7, 5, 3, 1] has 6 inversions (7, 5), (3, 1), (5, 1), (7, 1), (5, 3), (7, 3)\n",
    "  \n",
    "The number of inversions can also be thought of in the following manner. \n",
    "\n",
    ">Given an array `arr[0 ... n-1]` of `n` distinct positive integers, for indices `i and j`, if `i < j` and `arr[i] > arr[j]` then the pair `(i, j)` is called an inversion of `arr`.\n",
    "\n",
    "## Problem statement\n",
    "\n",
    "Write a function, `count_inversions`, that takes an array (or Python list) as input, and returns a count of the total number of inversions present in the input.\n",
    "\n",
    "Mergesort provides an efficient way to solve this problem."
   ]
  },
  {
   "cell_type": "code",
   "execution_count": null,
   "id": "27d8aae5-3da4-4579-ba51-58d4e7577f51",
   "metadata": {},
   "outputs": [],
   "source": [
    "def count_inversions(arr):\n",
    "    # TODO: Complete this function\n",
    "    pass\n",
    "\n",
    "def _count_inversions(left,right):\n",
    "    inversion_ount = 0 \n",
    "    merger_arry=[]\n",
    "    left_index = 0 \n",
    "    right_index = 0 \n",
    "    while left_index<len(left) and right_index<len(right):\n",
    "        if left[left_index]>right[right_index]:\n",
    "            merger_arry.append(right[right_index])\n",
    "            right_index += 1\n",
    "            if left_index<right_index:\n",
    "                inversion_ount += 1\n",
    "        else:\n",
    "            merger_arry.append(left[left_index])\n",
    "            left_index += 1\n",
    "    \n",
    "    "
   ]
  }
 ],
 "metadata": {
  "kernelspec": {
   "display_name": "Python 3 (ipykernel)",
   "language": "python",
   "name": "python3"
  },
  "language_info": {
   "codemirror_mode": {
    "name": "ipython",
    "version": 3
   },
   "file_extension": ".py",
   "mimetype": "text/x-python",
   "name": "python",
   "nbconvert_exporter": "python",
   "pygments_lexer": "ipython3",
   "version": "3.12.6"
  }
 },
 "nbformat": 4,
 "nbformat_minor": 5
}
