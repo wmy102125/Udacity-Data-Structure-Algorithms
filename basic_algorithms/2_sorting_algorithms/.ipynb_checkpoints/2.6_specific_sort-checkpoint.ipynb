{
 "cells": [
  {
   "cell_type": "code",
   "execution_count": null,
   "id": "83ec0d02-25ba-454f-ac59-b6eb31b6c260",
   "metadata": {},
   "outputs": [],
   "source": [
    "# Case Specific Sorting of Strings\n",
    "\n",
    "## Problem statement\n",
    "Given a string consisting of uppercase and lowercase ASCII characters, write a function, `case_sort`, that sorts uppercase and lowercase letters separately, such that if the $i$th place in the original string had an uppercase character then it should not have a lowercase character after being sorted and vice versa.\n",
    "\n",
    "For example:  \n",
    "**Input:** fedRTSersUXJ  \n",
    "**Output:** deeJRSfrsTUX"
   ]
  },
  {
   "cell_type": "code",
   "execution_count": null,
   "id": "e689ca6b-d84e-4739-9544-52891a8467a7",
   "metadata": {},
   "outputs": [],
   "source": [
    "def case_sort(string):\n",
    "    \"\"\"\n",
    "    Here are some pointers on how the function should work:\n",
    "    1. Sort the string\n",
    "    2. Create an empty output list\n",
    "    3. Iterate over original string\n",
    "        if the character is lower-case:\n",
    "            pick lower-case character from sorted string to place in output list\n",
    "        else:\n",
    "            pick upper-case character from sorted string to place in output list\n",
    "\n",
    "    Note: You can use Python's inbuilt ord() function to find the ASCII value of a character\n",
    "    \"\"\"\n",
    "    output = \"\"\n",
    "    sort_string = sorted(string)\n",
    "    lower_string,upper_string = get_lower_upper_string(sort_string)\n",
    "    for i, char in enumerate(string):\n",
    "        # lower-case\n",
    "        if ord(char) > 97:\n",
    "            output += lower_string[0]\n",
    "            lower_string = lower_string[1:]\n",
    "        else:\n",
    "            output += upper_string[0]\n",
    "            upper_string = upper_string[1:]\n",
    "    return str(output)\n",
    "\n",
    "\n",
    "def get_lower_upper_string(string):\n",
    "    for index, i in enumerate(string):\n",
    "        if 97 <= ord(i) <= 122:\n",
    "            return string[index:], string[0:index]"
   ]
  },
  {
   "cell_type": "code",
   "execution_count": null,
   "id": "9c717789-e5cd-4797-8492-d0fb1aab76e0",
   "metadata": {},
   "outputs": [],
   "source": [
    "test_string = 'fedRTSersUXJ'\n",
    "solution = \"deeJRSfrsTUX\"\n",
    "test_case = [test_string, solution]\n",
    "test_function(test_case)\n",
    "\n",
    "test_string = \"defRTSersUXI\"\n",
    "solution = \"deeIRSfrsTUX\"\n",
    "test_case = [test_string, solution]\n",
    "test_function(test_case)"
   ]
  },
  {
   "cell_type": "code",
   "execution_count": null,
   "id": "2fc271d7-7298-4e1e-a8c2-3282d6676921",
   "metadata": {},
   "outputs": [],
   "source": [
    "# solution\n",
    "def case_sort(string):\n",
    "    upper_ch_index = 0\n",
    "    lower_ch_index = 0\n",
    "\n",
    "    sorted_string = sorted(string)\n",
    "    for index, character in enumerate(sorted_string):\n",
    "        # check if character is lower-case\n",
    "        ascii_int = ord(character)\n",
    "        if 97 <= ascii_int <= 122:  # ASCII value of a = 97 & ASCII value of z = 122\n",
    "            lower_ch_index = index\n",
    "            break\n",
    "\n",
    "    output = list()\n",
    "    for character in string:\n",
    "        ascii_int = ord(character)\n",
    "        # if character is lower case pick next lower_case character\n",
    "        if 97 <= ascii_int <= 122:\n",
    "            output.append(sorted_string[lower_ch_index])\n",
    "            lower_ch_index += 1\n",
    "        else:\n",
    "            output.append(sorted_string[upper_ch_index])\n",
    "            upper_ch_index += 1\n",
    "    return \"\".join(output)"
   ]
  }
 ],
 "metadata": {
  "kernelspec": {
   "display_name": "Python 3 (ipykernel)",
   "language": "python",
   "name": "python3"
  },
  "language_info": {
   "codemirror_mode": {
    "name": "ipython",
    "version": 3
   },
   "file_extension": ".py",
   "mimetype": "text/x-python",
   "name": "python",
   "nbconvert_exporter": "python",
   "pygments_lexer": "ipython3",
   "version": "3.12.6"
  }
 },
 "nbformat": 4,
 "nbformat_minor": 5
}
