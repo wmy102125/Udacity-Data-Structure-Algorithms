{
 "cells": [
  {
   "cell_type": "code",
   "execution_count": null,
   "id": "cecbbfc1-0448-4657-a599-eac065b864bb",
   "metadata": {},
   "outputs": [],
   "source": [
    "# Heapsort\n",
    "\n",
    "A heapsort is an in-place sorting algorithm that treats an array like a binary tree and moves the largest values to the end of the heap until the full array is sorted.  \n",
    "\n",
    "The main steps in a heapsort are:\n",
    "1. Convert the array into a maxheap (a complete binary tree with decreasing values) \n",
    "2. Swap the top element with the last element in the array (putting it in it's correct final position)\n",
    "3. Repeat with `arr[:len(arr)-1]` (all but the sorted elements)\n",
    "\n",
    "## Visualization of a heapsort\n",
    "![animation of a heap sort](https://upload.wikimedia.org/wikipedia/commons/4/4d/Heapsort-example.gif)\n",
    "\n",
    "[\"Heapsort example\"](https://commons.wikimedia.org/wiki/File:Heapsort-example.gif) by Swfung8. Used under [CC BY-SA 3.0](https://creativecommons.org/licenses/by-sa/3.0/deed.en).\n",
    "\n",
    "## Problem statement\n",
    "\n",
    "In the cell below, see if you can code a `heapsort` function that takes an array (or Python list) and performs a heapsort on it. You will have to complete the heapify"
   ]
  },
  {
   "cell_type": "code",
   "execution_count": 3,
   "id": "d77a03a0-c851-40b3-9bfd-ebc107b573ed",
   "metadata": {},
   "outputs": [
    {
     "name": "stdout",
     "output_type": "stream",
     "text": [
      "-----\n",
      "Pass\n",
      "Pass\n",
      "Pass\n"
     ]
    }
   ],
   "source": [
    "def heapify_mine(arr, n, i):\n",
    "    if i < 0 or i >= (n - 1):\n",
    "        return\n",
    "    left_child_index = 2 * i + 1\n",
    "    right_child_index = 2 * i + 2\n",
    "    largest_index = i\n",
    "    if left_child_index < n and arr[left_child_index] > arr[i]:\n",
    "        largest_index = left_child_index\n",
    "    if right_child_index < n and arr[right_child_index] > arr[largest_index]:\n",
    "        largest_index = right_child_index\n",
    "    # max value is not the root ,swap them\n",
    "    if arr[largest_index] != arr[i]:\n",
    "        arr[i], arr[largest_index] = arr[largest_index], arr[i]\n",
    "        heapify_mine(arr, n, largest_index)\n",
    "\n",
    "\n",
    "def heapsort_mine(arr):\n",
    "    ## (len(arr) - 1) // 2 the number of root\n",
    "    for index in range((len(arr) - 1) // 2, -1, -1):\n",
    "        heapify_mine(arr, len(arr), index)\n",
    "    for index in range(len(arr) - 1, -1, -1):\n",
    "        arr[0], arr[index] = arr[index], arr[0]\n",
    "        heapify_mine(arr, index, 0)\n",
    "\n",
    "\n",
    "arr = [3, 7, 4, 6, 1, 0, 9, 8, 9, 4, 3, 5]\n",
    "heapsort_mine(arr)\n",
    "print(\"-----\")\n",
    "def test_function(test_case):\n",
    "    heapsort_mine(test_case[0])\n",
    "    if test_case[0] == test_case[1]:\n",
    "        print(\"Pass\")\n",
    "    else:\n",
    "        print(\"False\")\n",
    "arr = [3, 7, 4, 6, 1, 0, 9, 8, 9, 4, 3, 5]\n",
    "solution = [0, 1, 3, 3, 4, 4, 5, 6, 7, 8, 9, 9]\n",
    "\n",
    "test_case = [arr, solution]\n",
    "\n",
    "test_function(test_case)\n",
    "\n",
    "\n",
    "arr = [5, 5, 5, 3, 3, 3, 4, 4, 4, 4]\n",
    "solution = [3, 3, 3, 4, 4, 4, 4, 5, 5, 5]\n",
    "test_case = [arr, solution]\n",
    "test_function(test_case)\n",
    "\n",
    "arr = [0, 1, 2, 5, 12, 21, 0]\n",
    "solution = [0, 0, 1, 2, 5, 12, 21]\n",
    "test_case = [arr, solution]\n",
    "test_function(test_case)\n"
   ]
  },
  {
   "cell_type": "code",
   "execution_count": null,
   "id": "e7700950-a1a9-4da6-b6c7-89795599054c",
   "metadata": {},
   "outputs": [],
   "source": [
    "#solution\n",
    "def heapify(arr, n, i):\n",
    "    # Using i as the index of the current node, find the 2 child nodes (if the array were a binary tree)\n",
    "    # and find the largest value.   If one of the children is larger swap the values and recurse into that subree\n",
    "\n",
    "    # consider current index as largest\n",
    "    largest_index = i\n",
    "    left_node = 2 * i + 1\n",
    "    right_node = 2 * i + 2\n",
    "\n",
    "    # compare with left child\n",
    "    if left_node < n and arr[i] < arr[left_node]:\n",
    "        largest_index = left_node\n",
    "\n",
    "    # compare with right child\n",
    "    if right_node < n and arr[largest_index] < arr[right_node]:\n",
    "        largest_index = right_node\n",
    "\n",
    "    # if either of left / right child is the largest node\n",
    "    if largest_index != i:\n",
    "        arr[i], arr[largest_index] = arr[largest_index], arr[i]\n",
    "\n",
    "        heapify(arr, n, largest_index)\n",
    "\n",
    "\n",
    "def heapsort(arr):\n",
    "    # First convert the array into a maxheap by calling heapify on each node, starting from the end\n",
    "    # now that you have a maxheap, you can swap the first element (largest) to the end (final position)\n",
    "    # and make the array minus the last element into maxheap again.  Continue to do this until the whole\n",
    "    # array is sorted\n",
    "    n = len(arr)\n",
    "\n",
    "    # Build a maxheap.\n",
    "    for i in range(n, -1, -1):\n",
    "        heapify(arr, n, i)\n",
    "\n",
    "        # One by one extract elements\n",
    "    for i in range(n - 1, 0, -1):\n",
    "        arr[i], arr[0] = arr[0], arr[i]  # swap\n",
    "        heapify(arr, i, 0)"
   ]
  },
  {
   "cell_type": "code",
   "execution_count": null,
   "id": "0a1a47df-4d4e-433f-8f29-400b4e8708c0",
   "metadata": {},
   "outputs": [],
   "source": [
    "def test_function(test_case):\n",
    "    heapsort(test_case[0])\n",
    "    if test_case[0] == test_case[1]:\n",
    "        print(\"Pass\")\n",
    "    else:\n",
    "        print(\"False\")"
   ]
  },
  {
   "cell_type": "code",
   "execution_count": null,
   "id": "4a466cb1-75d2-4f55-9c52-8020285d498b",
   "metadata": {},
   "outputs": [],
   "source": [
    "arr = [3, 7, 4, 6, 1, 0, 9, 8, 9, 4, 3, 5]\n",
    "solution = [0, 1, 3, 3, 4, 4, 5, 6, 7, 8, 9, 9]\n",
    "\n",
    "test_case = [arr, solution]\n",
    "\n",
    "test_function(test_case)"
   ]
  },
  {
   "cell_type": "code",
   "execution_count": null,
   "id": "27726f88-ed95-4b07-94c0-7f0cd1b1c08a",
   "metadata": {},
   "outputs": [],
   "source": [
    "arr = [5, 5, 5, 3, 3, 3, 4, 4, 4, 4]\n",
    "solution = [3, 3, 3, 4, 4, 4, 4, 5, 5, 5]\n",
    "test_case = [arr, solution]\n",
    "test_function(test_case)"
   ]
  },
  {
   "cell_type": "code",
   "execution_count": null,
   "id": "de3d2e31-be1d-4299-9a52-e6aeef5947a5",
   "metadata": {},
   "outputs": [],
   "source": [
    "arr = [99]\n",
    "solution = [99]\n",
    "test_case = [arr, solution]\n",
    "test_function(test_case)\n"
   ]
  },
  {
   "cell_type": "code",
   "execution_count": null,
   "id": "568356c3-b257-47f3-97e1-8126dc3f1971",
   "metadata": {},
   "outputs": [],
   "source": [
    "arr = [0, 1, 2, 5, 12, 21, 0]\n",
    "solution = [0, 0, 1, 2, 5, 12, 21]\n",
    "test_case = [arr, solution]\n",
    "test_function(test_case)"
   ]
  }
 ],
 "metadata": {
  "kernelspec": {
   "display_name": "Python 3 (ipykernel)",
   "language": "python",
   "name": "python3"
  },
  "language_info": {
   "codemirror_mode": {
    "name": "ipython",
    "version": 3
   },
   "file_extension": ".py",
   "mimetype": "text/x-python",
   "name": "python",
   "nbconvert_exporter": "python",
   "pygments_lexer": "ipython3",
   "version": "3.12.6"
  }
 },
 "nbformat": 4,
 "nbformat_minor": 5
}
