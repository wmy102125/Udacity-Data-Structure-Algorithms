{
 "cells": [
  {
   "cell_type": "markdown",
   "id": "b80caf5f-5a56-458c-83d3-46b5a7bfac01",
   "metadata": {},
   "source": [
    "# Bubble Sort Exercises\n",
    "Now that you know how about bubble sort works, you'll implement bubble sort for two exercises."
   ]
  },
  {
   "cell_type": "markdown",
   "id": "a85db5cf-c2f5-4a2c-8318-b96154f3322e",
   "metadata": {},
   "source": [
    "## Exercise 1\n",
    "Sam records when they wake up every morning. Assuming Sam always wakes up in the same hour, use bubble sort to sort by earliest to latest."
   ]
  },
  {
   "cell_type": "code",
   "execution_count": 6,
   "id": "ee12a94d-9c8f-44ce-9878-c7a06bdf47ae",
   "metadata": {},
   "outputs": [
    {
     "name": "stdout",
     "output_type": "stream",
     "text": [
      "[56, 56, 56, 56, 56, 56, 56, 56, 56, 56, 56, 56, 56, 56, 56, 56, 56, 56, 56]\n",
      "Fail\n"
     ]
    }
   ],
   "source": [
    "wakeup_times = [16,49,3,12,56,49,55,22,13,46,19,55,46,13,25,56,9,48,45]\n",
    "def bubble_sort_1(l):\n",
    "    # TODO: Implement bubble sort solution\n",
    "    for i in range(len(l)):\n",
    "        element = l[i]\n",
    "        for j in range(len(l)):\n",
    "            j_element = l[j]\n",
    "            if element > j_element:\n",
    "                l[i] =  l[j] \n",
    "                l[j] = element\n",
    "\n",
    "    return l            \n",
    "\n",
    "\n",
    "print(bubble_sort_1(wakeup_times))\n",
    "print (\"Pass\" if (wakeup_times[0] == 3) else \"Fail\")"
   ]
  },
  {
   "cell_type": "code",
   "execution_count": 7,
   "id": "cdd9271a-bf16-4d43-9e02-2bf6fd11388b",
   "metadata": {},
   "outputs": [],
   "source": [
    "#solution\n",
    "def bubble_sort_1(l):\n",
    "    for iteration in range(len(l)):\n",
    "        for index in range(1, len(l)):\n",
    "            this = l[index]\n",
    "            prev = l[index - 1]\n",
    "\n",
    "            if prev <= this:\n",
    "                continue\n",
    "\n",
    "            l[index] = prev\n",
    "            l[index - 1] = this"
   ]
  },
  {
   "cell_type": "markdown",
   "id": "94adc41d-1473-4605-a4d7-dc5c890ae45e",
   "metadata": {},
   "source": [
    "Sam doesn't always go to sleep in the same hour. Given the following times Sam has gone to sleep, sort the times from latest to earliest."
   ]
  },
  {
   "cell_type": "code",
   "execution_count": 9,
   "id": "9d9e8b4f-934b-43d0-992f-50e8ce830d72",
   "metadata": {},
   "outputs": [
    {
     "name": "stdout",
     "output_type": "stream",
     "text": [
      "Pass\n"
     ]
    }
   ],
   "source": [
    "sleep_times = [(24, 13), (21, 55), (23, 20), (22, 5), (24, 23), (21, 58), (24, 3)]\n",
    "def bubble_sort_2(l):\n",
    "    # TODO: Implement bubble sort solution\n",
    "    for i in range(len(l)):\n",
    "        for j in range(1, len(l)):\n",
    "            if l[j - 1][0] < l[j][0]\\\n",
    "                    or (l[j - 1][0] == l[j][0] and l[j - 1][1] < l[j][1]) :\n",
    "                temp = l[j]\n",
    "                l[j] = l[j - 1]\n",
    "                l[j - 1] = temp\n",
    "\n",
    "\n",
    "bubble_sort_2(sleep_times)\n",
    "print(\"Pass\" if (sleep_times == [(24, 23), (24, 13), (24, 3), (23, 20), (22, 5), (21, 58), (21, 55)]) else \"Fail\")\n"
   ]
  },
  {
   "cell_type": "code",
   "execution_count": 10,
   "id": "ec6f46ec-22e8-4736-9392-11ee56717577",
   "metadata": {},
   "outputs": [],
   "source": [
    "#solution\n",
    "def bubble_sort_2(l):\n",
    "    for iteration in range(len(l)):\n",
    "        for index in range(1, len(l)):\n",
    "            this_hour, this_min = l[index]\n",
    "            prev_hour, prev_min = l[index - 1]\n",
    "\n",
    "            if prev_hour > this_hour or (prev_hour == this_hour and prev_min > this_min):\n",
    "                continue\n",
    "\n",
    "            l[index] = (prev_hour, prev_min)\n",
    "            l[index - 1] = (this_hour, this_min)"
   ]
  },
  {
   "cell_type": "code",
   "execution_count": null,
   "id": "e948738d-5adb-477b-896c-7460fcbbe59f",
   "metadata": {},
   "outputs": [],
   "source": []
  }
 ],
 "metadata": {
  "kernelspec": {
   "display_name": "Python 3 (ipykernel)",
   "language": "python",
   "name": "python3"
  },
  "language_info": {
   "codemirror_mode": {
    "name": "ipython",
    "version": 3
   },
   "file_extension": ".py",
   "mimetype": "text/x-python",
   "name": "python",
   "nbconvert_exporter": "python",
   "pygments_lexer": "ipython3",
   "version": "3.12.6"
  }
 },
 "nbformat": 4,
 "nbformat_minor": 5
}
