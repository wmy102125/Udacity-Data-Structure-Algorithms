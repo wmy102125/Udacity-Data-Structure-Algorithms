{
 "cells": [
  {
   "cell_type": "code",
   "execution_count": null,
   "id": "6d53c88f-2eea-4c77-829b-e5934411284a",
   "metadata": {},
   "outputs": [],
   "source": [
    "# Introduction to Inversions\n",
    "In an array, an inversion is a pair of elements that are out of their natural order. Specifically, if there are two indices i and j such that i<j and arr[i] > arr[j], then the pair (i,j) is considered an inversion. Understanding inversions can be useful for assessing the \"sortedness\" of a list, which has applications in data analysis and computer science theory."
   ]
  },
  {
   "cell_type": "code",
   "execution_count": null,
   "id": "97fbf215-f9db-41f9-a572-975186cf5b57",
   "metadata": {},
   "outputs": [],
   "source": [
    "# Why Count Inversions?\n",
    "Counting inversions is a way to measure how far an array is from being sorted. If the number of inversions is high, the array is far from sorted, and if it's low, the array is closer to being sorted. This measure can be useful in optimization problems and in algorithms that need to understand the underlying order of data."
   ]
  },
  {
   "cell_type": "code",
   "execution_count": null,
   "id": "2b30193a-b6f7-494d-b5ac-53e4401eb6f8",
   "metadata": {},
   "outputs": [],
   "source": [
    "# Using Merge Sort to Count Inversions\n",
    "Merge sort is a divide-and-conquer algorithm that can be modified to count inversions efficiently while sorting the array. The beauty of using merge sort lies in its ability to count inversions in O(nlogn) time, which is much more efficient than the naive O(n ^2) approach."
   ]
  },
  {
   "cell_type": "code",
   "execution_count": null,
   "id": "5f0c4ccf-c386-47a7-9b88-4848e6b6d252",
   "metadata": {},
   "outputs": [],
   "source": [
    "# Steps to Modify Merge Sort for Counting Inversions\n",
    "Divide: Split the array into two halves until each subarray contains only one element.\n",
    "Conquer and Combine:\n",
    "Sort each half and merge them as in the standard merge sort process.\n",
    "During the merging step, count the inversions:\n",
    "If an element from the right half right[j] is less than an element from the left half left[i], then there are as many inversions as the remaining elements in the left half. This is because all those elements are greater than right[j].\n"
   ]
  },
  {
   "cell_type": "code",
   "execution_count": null,
   "id": "a4a00650-c387-45e6-89d9-d1654c3b16c2",
   "metadata": {},
   "outputs": [],
   "source": [
    "# Counting Inversions\n",
    "\n",
    "The number of *inversions* in a disordered list is the number of pairs of elements that are inverted (out of order) in the list.  \n",
    "\n",
    "Here are some examples: \n",
    "  - [0,1] has 0 inversions\n",
    "  - [2,1] has 1 inversion (2,1)\n",
    "  - [3, 1, 2, 4] has 2 inversions (3, 2), (3, 1)\n",
    "  - [7, 5, 3, 1] has 6 inversions (7, 5), (3, 1), (5, 1), (7, 1), (5, 3), (7, 3)\n",
    "  \n",
    "The number of inversions can also be thought of in the following manner. \n",
    "\n",
    ">Given an array `arr[0 ... n-1]` of `n` distinct positive integers, for indices `i and j`, if `i < j` and `arr[i] > arr[j]` then the pair `(i, j)` is called an inversion of `arr`.\n",
    "\n",
    "## Problem statement\n",
    "\n",
    "Write a function, `count_inversions`, that takes an array (or Python list) as input, and returns a count of the total number of inversions present in the input.\n",
    "\n",
    "Mergesort provides an efficient way to solve this problem."
   ]
  },
  {
   "cell_type": "code",
   "execution_count": 4,
   "id": "27d8aae5-3da4-4579-ba51-58d4e7577f51",
   "metadata": {},
   "outputs": [],
   "source": [
    "def count_inversions(arr):\n",
    "    start_index = 0\n",
    "    end_index = len(arr) - 1\n",
    "    output = inversion_count_func(arr, start_index, end_index)\n",
    "    return output\n",
    "\n",
    "\n",
    "def inversion_count_func(arr, start_index, end_index):\n",
    "    if start_index >= end_index:\n",
    "        return 0\n",
    "\n",
    "    mid_index = start_index + (end_index - start_index) // 2\n",
    "    \n",
    "    # find number of inversions in left-half\n",
    "    left_answer = inversion_count_func(arr, start_index, mid_index)\n",
    "    \n",
    "    # find number of inversions in right-half\n",
    "    right_answer = inversion_count_func(arr, mid_index + 1, end_index)\n",
    "\n",
    "    output = left_answer + right_answer\n",
    "    \n",
    "    # merge two sorted halves and count inversions while merging\n",
    "    output += merge_two_sorted_halves(arr, start_index, mid_index, mid_index + 1, end_index)\n",
    "    return output\n",
    "\n",
    "\n",
    "def merge_two_sorted_halves(arr, start_one, end_one, start_two, end_two):\n",
    "    count = 0\n",
    "    left_index = start_one\n",
    "    right_index = start_two\n",
    "\n",
    "    output_length = (end_two - start_two + 1) + (end_one - start_one + 1)\n",
    "    output_list = [0 for _ in range(output_length)]\n",
    "    index = 0\n",
    "\n",
    "    while index < output_length:\n",
    "        # if left <= right, it's not an inversion\n",
    "        if arr[left_index] <= arr[right_index]:\n",
    "            output_list[index] = arr[left_index]\n",
    "            left_index += 1\n",
    "\n",
    "        else:\n",
    "            count = count + (end_one - left_index + 1)  # left > right hence it's an inversion\n",
    "            output_list[index] = arr[right_index]\n",
    "            right_index += 1\n",
    "\n",
    "        index = index + 1\n",
    "\n",
    "        if left_index > end_one:\n",
    "            for i in range(right_index, end_two + 1):\n",
    "                output_list[index] = arr[i]\n",
    "                index += 1\n",
    "            break\n",
    "\n",
    "        elif right_index > end_two:\n",
    "            for i in range(left_index, end_one + 1):\n",
    "                output_list[index] = arr[i]\n",
    "                index += 1\n",
    "            break\n",
    "\n",
    "    index = start_one\n",
    "    for i in range(output_length):\n",
    "        arr[index] = output_list[i]\n",
    "        index += 1\n",
    "    return count"
   ]
  },
  {
   "cell_type": "code",
   "execution_count": 5,
   "id": "77a9cbbb-df55-4f69-9346-b33698d91701",
   "metadata": {},
   "outputs": [],
   "source": [
    "def test_function(test_case):\n",
    "    arr = test_case[0]\n",
    "    solution = test_case[1]\n",
    "    if count_inversions(arr) == solution:\n",
    "        print(\"Pass\")\n",
    "    else:\n",
    "        print(\"Fail\")"
   ]
  },
  {
   "cell_type": "code",
   "execution_count": 6,
   "id": "bf9ff33b-cf12-45b6-92bc-67b7f4235c49",
   "metadata": {},
   "outputs": [
    {
     "name": "stdout",
     "output_type": "stream",
     "text": [
      "Pass\n"
     ]
    }
   ],
   "source": [
    "arr = [2, 5, 1, 3, 4]\n",
    "solution = 4\n",
    "test_case = [arr, solution]\n",
    "test_function(test_case)"
   ]
  },
  {
   "cell_type": "code",
   "execution_count": 7,
   "id": "caebfad4-bc49-413e-a86e-f6450faef430",
   "metadata": {},
   "outputs": [
    {
     "name": "stdout",
     "output_type": "stream",
     "text": [
      "Pass\n"
     ]
    }
   ],
   "source": [
    "arr = [54, 99, 49, 22, 37, 18, 22, 90, 86, 33]\n",
    "solution = 26\n",
    "test_case = [arr, solution]\n",
    "test_function(test_case)"
   ]
  },
  {
   "cell_type": "code",
   "execution_count": 8,
   "id": "72a011e3-9a64-45b4-abb3-5dc6787bc852",
   "metadata": {},
   "outputs": [
    {
     "name": "stdout",
     "output_type": "stream",
     "text": [
      "Pass\n"
     ]
    }
   ],
   "source": [
    "arr = [1, 2, 4, 2, 3, 11, 22, 99, 108, 389]\n",
    "solution = 2\n",
    "test_case = [arr, solution]\n",
    "test_function(test_case)"
   ]
  },
  {
   "cell_type": "code",
   "execution_count": null,
   "id": "955897a5-5fed-4b27-b1fb-de5c2038d3b3",
   "metadata": {},
   "outputs": [],
   "source": []
  }
 ],
 "metadata": {
  "kernelspec": {
   "display_name": "Python 3 (ipykernel)",
   "language": "python",
   "name": "python3"
  },
  "language_info": {
   "codemirror_mode": {
    "name": "ipython",
    "version": 3
   },
   "file_extension": ".py",
   "mimetype": "text/x-python",
   "name": "python",
   "nbconvert_exporter": "python",
   "pygments_lexer": "ipython3",
   "version": "3.12.6"
  }
 },
 "nbformat": 4,
 "nbformat_minor": 5
}
