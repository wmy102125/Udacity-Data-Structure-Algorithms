{
 "cells": [
  {
   "cell_type": "code",
   "execution_count": null,
   "id": "67278873-c2b4-45f5-9fb2-e25c1a1033c1",
   "metadata": {},
   "outputs": [],
   "source": [
    "# QuickSort\n",
    "\n",
    "Like MergeSort, QuickSort is a divide-and-conquer algorithm. We need to pick a pivot, then sort both sublists that are created on either side of the pivot. Similar to the video, we'll follow the convention of picking the last element as the pivot.\n",
    "\n",
    "Start with our unordered list of items:"
   ]
  },
  {
   "cell_type": "code",
   "execution_count": 1,
   "id": "ec93546e-e662-4d05-9f30-dfac369a6c5d",
   "metadata": {},
   "outputs": [],
   "source": [
    "items = [8, 3, 1, 7, 0, 10, 2]"
   ]
  },
  {
   "cell_type": "code",
   "execution_count": null,
   "id": "ad245553-3a00-4b97-9822-61480d44dd71",
   "metadata": {},
   "outputs": [],
   "source": [
    "Let's sketch out what a first iteration would look like.\n",
    "\n",
    "We can use `len` to grab the pivot value, but in order to sort in-place we'll also want the index of the pivot."
   ]
  },
  {
   "cell_type": "code",
   "execution_count": 2,
   "id": "3381b9ed-cd68-4650-be8a-b0a68c1ab39f",
   "metadata": {},
   "outputs": [],
   "source": [
    "# select the last element as the pivot\n",
    "pivot_index = len(items) - 1\n",
    "pivot_value = items[pivot_index]"
   ]
  },
  {
   "cell_type": "code",
   "execution_count": null,
   "id": "2ff41770-35dd-479f-9e25-b217dddb72bf",
   "metadata": {},
   "outputs": [],
   "source": [
    "Because we plan on sorting in-place, we want to iterate through the items to the left of our pivot (`left_items`). When they're larger than `pivot_value` though, we will not increment our position through `left_items`, but instead change `pivot_index`. We'll know we're done with this pass when `pivot_index` and `left_items` index are equal."
   ]
  },
  {
   "cell_type": "code",
   "execution_count": 3,
   "id": "2acf1f06-ddee-4fba-a844-a06d94aa36ca",
   "metadata": {},
   "outputs": [
    {
     "name": "stdout",
     "output_type": "stream",
     "text": [
      "[0, 1, 2, 7, 3, 10, 8]\n"
     ]
    }
   ],
   "source": [
    "left_index = 0 \n",
    "pivot_index = len(items)-1\n",
    "while pivot_index!= left_index:\n",
    "    pivot_value = items[pivot_index]\n",
    "    if pivot_value<items[left_index]:\n",
    "        items[pivot_index] = items[left_index]\n",
    "        items[left_index] = items[pivot_index-1]\n",
    "        items[pivot_index-1] = pivot_value\n",
    "        pivot_index -= 1\n",
    "    else:\n",
    "        left_index += 1\n",
    "print(items)\n",
    "    "
   ]
  },
  {
   "cell_type": "code",
   "execution_count": null,
   "id": "857090ca-2a1c-4c5c-bdde-74cf84aa4703",
   "metadata": {},
   "outputs": [],
   "source": [
    "You should see:\n",
    "\n",
    "```\n",
    "[0, 1, 2, 7, 3, 10, 8]\n",
    "```\n",
    "\n",
    "\n",
    "When our loop terminated, we knew everything to the left of our pivot was less than pivot, and everything to the right of our pivot was greater than pivot. \n",
    "### Great! Now we need to do that again for the sublists that are left and right of pivot's final location.\n",
    "\n",
    "We can do that by abstracting our above code to a function, just passing the list of items as a parameter."
   ]
  },
  {
   "cell_type": "code",
   "execution_count": 6,
   "id": "1fc4069d-e0aa-49c7-a5b0-7b4ba6660fed",
   "metadata": {},
   "outputs": [
    {
     "name": "stdout",
     "output_type": "stream",
     "text": [
      "[0, 1, 2, 7, 3, 10, 8]\n"
     ]
    }
   ],
   "source": [
    "def sort_a_little_bit(items):\n",
    "    left_index = 0 \n",
    "    pivot_index = len(items)-1\n",
    "    while pivot_index!= left_index:\n",
    "        pivot_value = items[pivot_index]\n",
    "        if pivot_value<items[left_index]:\n",
    "            items[pivot_index] = items[left_index]\n",
    "            items[left_index] = items[pivot_index-1]\n",
    "            items[pivot_index-1] = pivot_value\n",
    "            pivot_index -= 1\n",
    "        else:\n",
    "            left_index += 1\n",
    "    return items\n",
    "items = [8, 3, 1, 7, 0, 10, 2]\n",
    "sort_a_little_bit(items)\n",
    "print(items)"
   ]
  },
  {
   "cell_type": "code",
   "execution_count": null,
   "id": "564874e9-1a29-44ab-acb6-2435543d1ee0",
   "metadata": {},
   "outputs": [],
   "source": [
    "Now what would it require to recurse on this? We want to take the result of that iteration and act on it. So first off, we see that in order to call the function again, we need to communicate the final `pivot_index` value. And then with that, we can mark off segments of the list and have our function operate on less than the entire list. So let's change our function to accept the indices it should stay within, and return the pivot_index."
   ]
  },
  {
   "cell_type": "code",
   "execution_count": 26,
   "id": "c59a6fc3-9efa-46a4-8c79-fb63de8e226c",
   "metadata": {},
   "outputs": [
    {
     "name": "stdout",
     "output_type": "stream",
     "text": [
      "[0, 1, 2, 7, 3, 10, 8]\n",
      "pivot index 2\n"
     ]
    }
   ],
   "source": [
    "def sort_a_little_bit(items,left_index,pivot_index):\n",
    "    if left_index >= pivot_index:\n",
    "        return pivot_index\n",
    "    left_index = 0 \n",
    "    pivot_index = len(items)-1\n",
    "    while pivot_index!= left_index:\n",
    "        pivot_value = items[pivot_index]\n",
    "        if pivot_value<items[left_index]:\n",
    "            items[pivot_index] = items[left_index]\n",
    "            items[left_index] = items[pivot_index-1]\n",
    "            items[pivot_index-1] = pivot_value\n",
    "            pivot_index -= 1\n",
    "        else:\n",
    "            left_index += 1\n",
    "    return pivot_index\n",
    "items = [8, 3, 1, 7, 0, 10, 2]\n",
    "pivot_index = sort_a_little_bit(items, 0, len(items) - 1)\n",
    "print(items)\n",
    "print('pivot index %d' % pivot_index)"
   ]
  },
  {
   "cell_type": "code",
   "execution_count": 25,
   "id": "c11968cd-0549-4a51-a654-b544321138e3",
   "metadata": {},
   "outputs": [
    {
     "ename": "SyntaxError",
     "evalue": "unterminated string literal (detected at line 1) (1759018908.py, line 1)",
     "output_type": "error",
     "traceback": [
      "\u001b[1;36m  Cell \u001b[1;32mIn[25], line 1\u001b[1;36m\u001b[0m\n\u001b[1;33m    Almost there! Let's create another function, the recursive function we want, that uses this. And then we'll have our top level definition of `quicksort` call it with our initial parameters. But we need a way to know if we're done! We'll use the indices to see if they demark a list of more than one item. If the demarked sublist is 0 or 1 item, we know it's already sorted.\u001b[0m\n\u001b[1;37m                                                                                                                                                                                                                                                                                                                                                                       ^\u001b[0m\n\u001b[1;31mSyntaxError\u001b[0m\u001b[1;31m:\u001b[0m unterminated string literal (detected at line 1)\n"
     ]
    }
   ],
   "source": [
    "Almost there! Let's create another function, the recursive function we want, that uses this. And then we'll have our top level definition of `quicksort` call it with our initial parameters. But we need a way to know if we're done! We'll use the indices to see if they demark a list of more than one item. If the demarked sublist is 0 or 1 item, we know it's already sorted."
   ]
  },
  {
   "cell_type": "code",
   "execution_count": 32,
   "id": "ede8e9ab-ef09-47a5-a6f7-fb86ba92d487",
   "metadata": {},
   "outputs": [
    {
     "name": "stdout",
     "output_type": "stream",
     "text": [
      "[0, 1, 2, 3, 7, 8, 10]\n"
     ]
    }
   ],
   "source": [
    "\n",
    "def sort_all(items, left_index, pivot_index):\n",
    "    if pivot_index <= left_index:\n",
    "        return\n",
    "    sort_a_little_bit(items, left_index, pivot_index)\n",
    "    ## sort right sublist\n",
    "    sort_all(items, pivot_index + 1, len(items) - 1)\n",
    "    ## sort left sublist\n",
    "    sort_all(items, left_index, pivot_index - 1)\n",
    "    return items\n",
    "\n",
    "\n",
    "def quicksort(items):\n",
    "    return sort_all(items, 0, len(items) - 1)\n",
    "\n",
    "\n",
    "\n",
    "items = [8, 3, 1, 7, 0, 10, 2]\n",
    "print(quicksort(items))"
   ]
  },
  {
   "cell_type": "code",
   "execution_count": 31,
   "id": "d30486f0-3d0a-4e15-8531-93e90036540d",
   "metadata": {},
   "outputs": [
    {
     "name": "stdout",
     "output_type": "stream",
     "text": [
      "[0, 1, 2, 3, 7, 8, 10]\n"
     ]
    }
   ],
   "source": [
    "items = [8, 3, 1, 7, 0, 10, 2]\n",
    "print(quicksort(items))"
   ]
  },
  {
   "cell_type": "code",
   "execution_count": null,
   "id": "eac0bc9e-e944-4b31-905d-8c7f401611a8",
   "metadata": {},
   "outputs": [],
   "source": []
  }
 ],
 "metadata": {
  "kernelspec": {
   "display_name": "Python 3 (ipykernel)",
   "language": "python",
   "name": "python3"
  },
  "language_info": {
   "codemirror_mode": {
    "name": "ipython",
    "version": 3
   },
   "file_extension": ".py",
   "mimetype": "text/x-python",
   "name": "python",
   "nbconvert_exporter": "python",
   "pygments_lexer": "ipython3",
   "version": "3.12.6"
  }
 },
 "nbformat": 4,
 "nbformat_minor": 5
}
