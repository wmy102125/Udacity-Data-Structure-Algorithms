{
 "cells": [
  {
   "cell_type": "markdown",
   "id": "0d592e8c-b7f7-4259-b618-d3ec8805175f",
   "metadata": {},
   "source": [
    "## Time complexity of binary search\n",
    "How do we calculate the time complexity for binary search?\n",
    "In fact, this efficiency is the second best on the graph, with only constant time complexity, \n",
    "<img style=\"float: center;\" src=\"assets/efficiency_1.png\" alt=\"\"><br>\n",
    "<img style=\"float: center;\" src=\"assets/efficiency_2.png\" alt=\"\"><br>\n",
    "<img style=\"float: center;\" src=\"assets/efficiency_3.png\" alt=\"\"><br>\n",
    "<img style=\"float: center;\" src=\"assets/efficiency_4.png\" alt=\"\"><br>\n",
    "<img style=\"float: center;\" src=\"assets/efficiency_5.png\" alt=\"\"><br>\n",
    "<img style=\"float: center;\" src=\"assets/efficiency_6.png\" alt=\"\"><br>\n",
    "<img style=\"float: center;\" src=\"assets/efficiency_7.png\" alt=\"\"><br>\n",
    "<img style=\"float: center;\" src=\"assets/efficiency_8.png\" alt=\"\"><br>\n",
    "<img style=\"float: center;\" src=\"assets/efficiency_9.png\" alt=\"\"><br>\n",
    "<img style=\"float: center;\" src=\"assets/efficiency_10.png\" alt=\"\"><br>\n",
    "<img style=\"float: center;\" src=\"assets/efficiency_11.png\" alt=\"\"><br>\n",
    "<img style=\"float: center;\" src=\"assets/efficiency_12.png\" alt=\"\"><br>\n",
    "O(1) performing better!\n",
    "\n",
    "Even as the input size grows very large, the number of steps required is still surprisingly small.\n",
    "\n",
    "Going back to our guess-the-number game, you should now see why it's possible—using binary search—to correctly guess a number, out of 100. with only a handful of tries. If you like, go back and try inputs of 200 or even 1,000. The algorithm will still perform quite well! (For an input of 1,000, you might need slightly more than 7 tries.)"
   ]
  }
 ],
 "metadata": {
  "kernelspec": {
   "display_name": "Python 3 (ipykernel)",
   "language": "python",
   "name": "python3"
  },
  "language_info": {
   "codemirror_mode": {
    "name": "ipython",
    "version": 3
   },
   "file_extension": ".py",
   "mimetype": "text/x-python",
   "name": "python",
   "nbconvert_exporter": "python",
   "pygments_lexer": "ipython3",
   "version": "3.12.6"
  }
 },
 "nbformat": 4,
 "nbformat_minor": 5
}
