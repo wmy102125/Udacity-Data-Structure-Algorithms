{
 "cells": [
  {
   "cell_type": "markdown",
   "id": "a165c4e5-3889-46df-a2d5-ed392acfc475",
   "metadata": {},
   "source": [
    "# Red-Black Tree\n",
    "A Red-Black Tree is an extension of the Binary Search Tree with additional properties as follows:\n",
    "\n",
    "Each node is assigned to a color property with a value of red or black (by convention).\n",
    "Each node that does not have two leaves must have a null child.\n",
    "All null leaves must be assigned to the black color property.\n",
    "Optional rule: the root node must be assigned to the black color property.\n",
    "Every path from a node to its descendant null nodes must contain the same number of black nodes."
   ]
  }
 ],
 "metadata": {
  "kernelspec": {
   "display_name": "Python 3 (ipykernel)",
   "language": "python",
   "name": "python3"
  },
  "language_info": {
   "codemirror_mode": {
    "name": "ipython",
    "version": 3
   },
   "file_extension": ".py",
   "mimetype": "text/x-python",
   "name": "python",
   "nbconvert_exporter": "python",
   "pygments_lexer": "ipython3",
   "version": "3.12.6"
  }
 },
 "nbformat": 4,
 "nbformat_minor": 5
}
