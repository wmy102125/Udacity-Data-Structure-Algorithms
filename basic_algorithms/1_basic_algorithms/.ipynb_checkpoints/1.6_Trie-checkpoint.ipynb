{
 "cells": [
  {
   "cell_type": "markdown",
   "id": "d5ca39d2-22da-43e2-b419-3a7989a1f33f",
   "metadata": {},
   "source": [
    "# Trie\n",
    "You've learned about Trees and Binary Search Trees. In this notebook, you'll learn about a new type of Tree called Trie. Before we dive into the details, let's talk about the kind of problem Trie can help with.\n",
    "\n",
    "Let's say you want to build software that provides spell check. This software will only say if the word is valid or not. It doesn't give suggested words. From the knowledge you've already learned, how would you build this?\n",
    "\n",
    "The simplest solution is to have a hashmap of all known words. It would take $O(1)$ to see if a word exists, but the memory size would be $O(n*m)$, where n is the number of words and m is the length of the word. Let's see how a Trie can help decrease the memory usage while sacrificing a little on performance.\n",
    "\n",
    "## Basic Trie\n",
    "Let's look at a basic Trie with the following words: \"a\", \"add\", and \"hi\""
   ]
  },
  {
   "cell_type": "code",
   "execution_count": 1,
   "id": "436018ea-48af-493e-89e9-95d195f47efa",
   "metadata": {},
   "outputs": [
    {
     "name": "stdout",
     "output_type": "stream",
     "text": [
      "Is \"a\"   a word: True\n",
      "Is \"ad\"  a word: False\n",
      "Is \"add\" a word: True\n"
     ]
    }
   ],
   "source": [
    "basic_trie = {\n",
    "    # a and add word\n",
    "    'a': {\n",
    "        'd': {\n",
    "            'd': {'word_end': True},\n",
    "            'word_end': False},\n",
    "        'word_end': True},\n",
    "    # hi word\n",
    "    'h': {\n",
    "        'i': {'word_end': True},\n",
    "        'word_end': False}}\n",
    "\n",
    "\n",
    "print('Is \"a\"   a word: {}'.format(basic_trie['a']['word_end']))\n",
    "print('Is \"ad\"  a word: {}'.format(basic_trie['a']['d']['word_end']))\n",
    "print('Is \"add\" a word: {}'.format(basic_trie['a']['d']['d']['word_end']))"
   ]
  },
  {
   "cell_type": "markdown",
   "id": "f7fbad11-b746-40b1-8269-88a774e1fdf9",
   "metadata": {},
   "source": [
    "You can lookup a word by checking if `word_end` is `True` after traversing all the characters in the word. Let's look at the word \"hi\". The first letter is \"h\", so you would call `basic_trie['h']`. The second letter is \"i\", so you would call `basic_trie['h']['i']`. Since there's no more letters left, you would see if this is a valid word by getting the value of `word_end`. Now you have `basic_trie['h']['i']['word_end']` with `True` or `False` if the word exists.\n",
    "\n",
    "In `basic_trie`, words \"a\" and \"add\" overlapp. This is where a Trie saves memory. Instead of having \"a\" and \"add\" in different cells, their characters treated like nodes in a tree. Let's see how we would check if a word exists in `basic_trie`."
   ]
  },
  {
   "cell_type": "code",
   "execution_count": 2,
   "id": "89cdb3c8-93e0-4265-af93-e431bec055fa",
   "metadata": {},
   "outputs": [
    {
     "name": "stdout",
     "output_type": "stream",
     "text": [
      "\"ap\" is not a word.\n",
      "\"add\" is a word.\n"
     ]
    }
   ],
   "source": [
    "def is_word(word):\n",
    "    \"\"\"\n",
    "    Look for the word in `basic_trie`\n",
    "    \"\"\"\n",
    "    current_node = basic_trie\n",
    "    \n",
    "    for char in word:\n",
    "        if char not in current_node:\n",
    "            return False\n",
    "        \n",
    "        current_node = current_node[char]\n",
    "    \n",
    "    return current_node['word_end']\n",
    "\n",
    "\n",
    "# Test words\n",
    "test_words = ['ap', 'add']\n",
    "for word in test_words:\n",
    "    if is_word(word):\n",
    "        print('\"{}\" is a word.'.format(word))\n",
    "    else:\n",
    "        print('\"{}\" is not a word.'.format(word))"
   ]
  },
  {
   "cell_type": "markdown",
   "id": "2cacec51-9666-432b-9486-ebc7c10ea182",
   "metadata": {},
   "source": [
    "The `is_word` starts with the root node, `basic_trie`. It traverses each character (`char`) in the word (`word`). If a character doesn't exist while traversing, this means the word doesn't exist in the trie. Once all the characters are traversed, the function returns the value of `current_node['word_end']`.\n",
    "\n",
    "You might notice the function `is_word` is similar to a binary search tree traversal. Since Trie is a tree, it makes sense that we would use a type of tree traversal. Now that you've seen a basic example of a Trie, let's build something more familiar.\n",
    "## Trie Using a Class\n",
    "Just like most tree data structures, let's use classes to build the Trie. Implement two functions for the `Trie` class below. Implement `add` to add a word to the Trie. Implement `exists` to return `True` if the word exist in the trie and `False` if the word doesn't exist in the trie.\n"
   ]
  },
  {
   "cell_type": "code",
   "execution_count": 21,
   "id": "00d58293-a8f3-41db-9a50-a69814fa2556",
   "metadata": {},
   "outputs": [],
   "source": [
    "class TriesNode:\n",
    "    def __init__(self):\n",
    "        self.is_word=False\n",
    "        self.children={}\n",
    "        \n",
    "class Trie:\n",
    "    def __init__(self):\n",
    "        self.root = TriesNode()\n",
    "    def add(self, word):\n",
    "        \"\"\"\n",
    "        Add `word` to trie\n",
    "        \"\"\"\n",
    "        if word is None:\n",
    "            return\n",
    "        current_node = self.root\n",
    "        for char in word:\n",
    "           if char not in current_node.children:\n",
    "               current_node.children[char] = TriesNode()\n",
    "        current_node = current_node.children[char]\n",
    "        current_node.is_word = True\n",
    "               \n",
    "    \n",
    "    def exists(self, word):\n",
    "        \"\"\"\n",
    "        Check if word exists in trie\n",
    "        \"\"\"\n",
    "        if word is None:\n",
    "            return False\n",
    "        current_node = self.root\n",
    "        \n",
    "        pass\n",
    "    def _exists(node,word):\n",
    "        if node is None:\n",
    "            return False\n",
    "        char_0 = word[0]\n",
    "        if char_0 not in node.children:\n",
    "            return _exists(node.children[char_0],word[1:])\n",
    "        else:\n",
    "            return node.is_word\n",
    "        "
   ]
  },
  {
   "cell_type": "code",
   "execution_count": 23,
   "id": "06533eda-c0ad-4347-9677-85c3ebb0466b",
   "metadata": {},
   "outputs": [
    {
     "name": "stdout",
     "output_type": "stream",
     "text": [
      "\"bear\" is not a word.\n",
      "\"goo\" is not a word.\n",
      "\"good\" is not a word.\n",
      "\"goos\" is not a word.\n"
     ]
    }
   ],
   "source": [
    "word_list = ['apple', 'bear', 'goo', 'good', 'goodbye', 'goods', 'goodwill', 'gooses'  ,'zebra']\n",
    "word_trie = Trie()\n",
    "\n",
    "# Add words\n",
    "for word in word_list:\n",
    "    word_trie.add(word)\n",
    "\n",
    "# Test words\n",
    "test_words = ['bear', 'goo', 'good', 'goos']\n",
    "for word in test_words:\n",
    "    if word_trie.exists(word):\n",
    "        print('\"{}\" is a word.'.format(word))\n",
    "    else:\n",
    "        print('\"{}\" is not a word.'.format(word))"
   ]
  },
  {
   "cell_type": "code",
   "execution_count": 25,
   "id": "e9b73df8-f161-4a7b-903e-b7a3276429f4",
   "metadata": {},
   "outputs": [
    {
     "name": "stdout",
     "output_type": "stream",
     "text": [
      "\"bear\" is a word.\n",
      "\"goo\" is a word.\n",
      "\"good\" is a word.\n",
      "\"goos\" is not a word.\n"
     ]
    }
   ],
   "source": [
    "##solution\n",
    "class TrieNode(object):\n",
    "    def __init__(self):\n",
    "        self.is_word = False\n",
    "        self.children = {}\n",
    "\n",
    "\n",
    "class Trie(object):\n",
    "    def __init__(self):\n",
    "        self.root = TrieNode()\n",
    "\n",
    "    def add(self, word):\n",
    "        \"\"\"\n",
    "        Add `word` to trie\n",
    "        \"\"\"\n",
    "        current_node = self.root\n",
    "\n",
    "        for char in word:\n",
    "            if char not in current_node.children:\n",
    "                current_node.children[char] = TrieNode()\n",
    "            current_node = current_node.children[char]\n",
    "\n",
    "        current_node.is_word = True\n",
    "\n",
    "    def exists(self, word):\n",
    "        \"\"\"\n",
    "        Check if word exists in trie\n",
    "        \"\"\"\n",
    "        current_node = self.root\n",
    "\n",
    "        for char in word:\n",
    "            if char not in current_node.children:\n",
    "                return False\n",
    "            current_node = current_node.children[char]\n",
    "\n",
    "        return current_node.is_word\n",
    "word_list = ['apple', 'bear', 'goo', 'good', 'goodbye', 'goods', 'goodwill', 'gooses'  ,'zebra']\n",
    "word_trie = Trie()\n",
    "\n",
    "# Add words\n",
    "for word in word_list:\n",
    "    word_trie.add(word)\n",
    "\n",
    "# Test words\n",
    "test_words = ['bear', 'goo', 'good', 'goos']\n",
    "for word in test_words:\n",
    "    if word_trie.exists(word):\n",
    "        print('\"{}\" is a word.'.format(word))\n",
    "    else:\n",
    "        print('\"{}\" is not a word.'.format(word))"
   ]
  },
  {
   "cell_type": "markdown",
   "id": "422c0a56-addf-49ba-af57-b5b4e0c40d93",
   "metadata": {},
   "source": [
    "## Trie using Defaultdict (Optional)\n",
    "This is an optional section. Feel free to skip this and go to the next section of the classroom.\n",
    "\n",
    "A cleaner way to build a trie is with a Python default dictionary. The following `TrieNod` class is using `collections.defaultdict` instead of a normal dictionary."
   ]
  },
  {
   "cell_type": "code",
   "execution_count": 37,
   "id": "9f69a61e-0180-4604-b0f5-cdad8d0bca6a",
   "metadata": {},
   "outputs": [],
   "source": [
    "import collections\n",
    "\n",
    "\n",
    "class TrieNode:\n",
    "    def __init__(self):\n",
    "        self.children = collections.defaultdict(TrieNode)\n",
    "        self.is_word = False"
   ]
  },
  {
   "cell_type": "code",
   "execution_count": 39,
   "id": "f73dc404-2cb9-4f21-a90f-db56c030ac21",
   "metadata": {},
   "outputs": [
    {
     "name": "stdout",
     "output_type": "stream",
     "text": [
      "All tests passed!\n"
     ]
    }
   ],
   "source": [
    "class Trie(object):\n",
    "    def __init__(self):\n",
    "        self.root = TrieNode()\n",
    "\n",
    "    def add(self, word):\n",
    "        \"\"\"\n",
    "        Add `word` to trie\n",
    "        \"\"\"\n",
    "        if word is None:\n",
    "            return \n",
    "        current_node = self.root\n",
    "        for char in word:\n",
    "            current_node=current_node.children[char]\n",
    "        current_node.is_word = True\n",
    "        \n",
    "\n",
    "    def exists(self, word):\n",
    "        \"\"\"\n",
    "        Check if word exists in trie\n",
    "        \"\"\"\n",
    "        if word is None:\n",
    "            return False\n",
    "        current_node = self.root   \n",
    "        for char in word:\n",
    "            if char  not in  current_node.children:\n",
    "                return False\n",
    "            current_node = current_node.children[char]\n",
    "        return current_node.is_word\n",
    "# Add words\n",
    "valid_words = ['the', 'a', 'there', 'answer', 'any', 'by', 'bye', 'their']\n",
    "word_trie = Trie()\n",
    "for valid_word in valid_words:\n",
    "    word_trie.add(valid_word)\n",
    "\n",
    "# Tests\n",
    "assert word_trie.exists('the')\n",
    "assert word_trie.exists('any')\n",
    "assert not word_trie.exists('these')\n",
    "assert not word_trie.exists('zzz')\n",
    "print('All tests passed!')\n",
    "        "
   ]
  },
  {
   "cell_type": "markdown",
   "id": "3b2296ca-fed0-402f-a574-beec72b1c632",
   "metadata": {},
   "source": [
    "The Trie data structure is part of the family of Tree data structures. It shines when dealing with sequence data, whether it's characters, words, or network nodes. When working on a problem with sequence data, ask yourself if a Trie is right for the job."
   ]
  }
 ],
 "metadata": {
  "kernelspec": {
   "display_name": "Python 3 (ipykernel)",
   "language": "python",
   "name": "python3"
  },
  "language_info": {
   "codemirror_mode": {
    "name": "ipython",
    "version": 3
   },
   "file_extension": ".py",
   "mimetype": "text/x-python",
   "name": "python",
   "nbconvert_exporter": "python",
   "pygments_lexer": "ipython3",
   "version": "3.12.6"
  }
 },
 "nbformat": 4,
 "nbformat_minor": 5
}
