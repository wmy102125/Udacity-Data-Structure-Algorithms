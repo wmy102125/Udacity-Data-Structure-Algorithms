{
 "cells": [
  {
   "cell_type": "code",
   "execution_count": null,
   "id": "ce833f7b-add6-4615-9073-1753128a2edf",
   "metadata": {},
   "outputs": [],
   "source": [
    "# Bubble Sort Exercises\n",
    "Now that you know how about bubble sort works, you'll implement bubble sort for two exercises."
   ]
  },
  {
   "cell_type": "code",
   "execution_count": null,
   "id": "ac69a1b0-3efb-4f67-a9fa-b50e125f668d",
   "metadata": {},
   "outputs": [],
   "source": [
    "## Exercise 1\n",
    "Sam records when they wake up every morning. Assuming Sam always wakes up in the same hour, use bubble sort to sort by earliest to latest."
   ]
  },
  {
   "cell_type": "code",
   "execution_count": 1,
   "id": "ee12a94d-9c8f-44ce-9878-c7a06bdf47ae",
   "metadata": {},
   "outputs": [
    {
     "ename": "SyntaxError",
     "evalue": "invalid syntax (2151074495.py, line 5)",
     "output_type": "error",
     "traceback": [
      "\u001b[1;36m  Cell \u001b[1;32mIn[1], line 5\u001b[1;36m\u001b[0m\n\u001b[1;33m    for e in wakeup_times;\u001b[0m\n\u001b[1;37m                         ^\u001b[0m\n\u001b[1;31mSyntaxError\u001b[0m\u001b[1;31m:\u001b[0m invalid syntax\n"
     ]
    }
   ],
   "source": [
    "wakeup_times = [16,49,3,12,56,49,55,22,13,46,19,55,46,13,25,56,9,48,45]\n",
    "def bubble_sort_1(l):\n",
    "    # TODO: Implement bubble sort solution\n",
    "    for i in range(len(wakeup_times)):\n",
    "        element = weakup_times[i]\n",
    "        for j in range(len(wakeup_times)):\n",
    "            j_element = weakup_times[j]\n",
    "            if element > j_element:\n",
    "                weakup_times[i] =  weakup_times[j] \n",
    "                weakup_times[j] = element\n",
    "                \n",
    "\n",
    "\n",
    "bubble_sort_1(wakeup_times)\n",
    "print (\"Pass\" if (wakeup_times[0] == 3) else \"Fail\")"
   ]
  },
  {
   "cell_type": "code",
   "execution_count": null,
   "id": "cdd9271a-bf16-4d43-9e02-2bf6fd11388b",
   "metadata": {},
   "outputs": [],
   "source": []
  }
 ],
 "metadata": {
  "kernelspec": {
   "display_name": "Python 3 (ipykernel)",
   "language": "python",
   "name": "python3"
  },
  "language_info": {
   "codemirror_mode": {
    "name": "ipython",
    "version": 3
   },
   "file_extension": ".py",
   "mimetype": "text/x-python",
   "name": "python",
   "nbconvert_exporter": "python",
   "pygments_lexer": "ipython3",
   "version": "3.12.6"
  }
 },
 "nbformat": 4,
 "nbformat_minor": 5
}
